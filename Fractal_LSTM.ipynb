{
 "cells": [
  {
   "cell_type": "markdown",
   "id": "df6f59fa",
   "metadata": {},
   "source": [
    "شروع و دریافت  اطلاعات"
   ]
  },
  {
   "cell_type": "code",
   "execution_count": 2,
   "id": "f9593497",
   "metadata": {},
   "outputs": [
    {
     "ename": "",
     "evalue": "",
     "output_type": "error",
     "traceback": [
      "\u001b[1;31mFailed to start the Kernel. \n",
      "\u001b[1;31mConnection is disposed. \n",
      "\u001b[1;31mView Jupyter <a href='command:jupyter.viewOutput'>log</a> for further details."
     ]
    }
   ],
   "source": [
    "import numpy as np\n",
    "import matplotlib.pyplot as plt\n",
    "import pandas as pd\n",
    "import datetime\n",
    "from keras.layers import LSTM, Dense, Input, Dropout, BatchNormalization\n",
    "from sklearn.model_selection import train_test_split\n",
    "from keras.callbacks import EarlyStopping, ReduceLROnPlateau\n",
    "from keras.optimizers import Adam\n",
    "from keras.regularizers import l2\n",
    "from keras.models import Sequential\n",
    "from keras.layers import Input\n",
    "import MetaTrader5 as mt5\n",
    "import matplotlib.pyplot as plt\n",
    "from sklearn.metrics import mean_squared_error, mean_absolute_error, accuracy_score\n",
    "from sklearn.model_selection import KFold"
   ]
  },
  {
   "cell_type": "code",
   "execution_count": null,
   "id": "b29811c3",
   "metadata": {
    "colab": {
     "base_uri": "https://localhost:8080/",
     "height": 411
    },
    "id": "b29811c3",
    "outputId": "08e83177-796a-40be-de77-5974b549136b"
   },
   "outputs": [],
   "source": [
    "# تنظیمات\n",
    "symbol = 'EURUSD'\n",
    "timeframe = mt5.TIMEFRAME_H1\n",
    "number_of_candles = 99999\n",
    "\n",
    "mt5.initialize()\n",
    "# login = '2424394'\n",
    "# password = 'Aa@12345678'\n",
    "# server = 'AMarkets-Real'\n",
    "# mt5.login(login, password, server)\n",
    "\n",
    "\n",
    "def get_data(symbol, timeframe, number_of_candles):\n",
    "    if not mt5.initialize():\n",
    "        print(\"Failed to initialize MT5\")\n",
    "        return None\n",
    "\n",
    "    rates = mt5.copy_rates_from_pos(symbol, timeframe, 0, number_of_candles)\n",
    "    mt5.shutdown()\n",
    "\n",
    "    candles_data = pd.DataFrame(rates)\n",
    "    candles_data['time'] = pd.to_datetime(candles_data['time'], unit='s')\n",
    "    return candles_data\n",
    "\n",
    "\n",
    "candles = get_data(symbol, timeframe, number_of_candles)\n",
    "\n",
    "# تغییر نام\n",
    "candles = candles.rename(\n",
    "    columns={'open': 'O', 'high': 'H', 'low': 'L', 'close': 'C', 'tick_volume': 'vol'})\n",
    "candles = candles.drop(columns=['real_volume', 'spread'])\n",
    "\n",
    "\n",
    "candles"
   ]
  },
  {
   "cell_type": "markdown",
   "id": "37fbbbc2",
   "metadata": {},
   "source": [
    "پیدا کردن فراکتال ها"
   ]
  },
  {
   "cell_type": "code",
   "execution_count": null,
   "id": "ed72e550",
   "metadata": {},
   "outputs": [],
   "source": [
    "# استفاده از تابع fractals\n",
    "left_n = 3  # تعداد کندل‌های چپ\n",
    "right_n = 2  # تعداد کندل‌های راست\n",
    "\n",
    "# تعریف تابع fractals\n",
    "\n",
    "\n",
    "def fractal(candles, left_n, right_n):\n",
    "    # ایجاد ستون‌های اولیه برای فراکتال‌ها با مقدار False\n",
    "    candles['up_f'] = True\n",
    "    candles['low_f'] = True\n",
    "\n",
    "    # شناسایی فراکتال‌های بالا\n",
    "    for i in range(1, left_n + 1):\n",
    "        candles['up_f'] &= (candles['H'] >= candles['H'].shift(i))\n",
    "\n",
    "    for j in range(1, right_n + 1):\n",
    "        candles['up_f'] &= (candles['H'] >= candles['H'].shift(-j))\n",
    "\n",
    "    # شناسایی فراکتال‌های پایین\n",
    "    for i in range(1, left_n + 1):\n",
    "        candles['low_f'] &= (candles['L'] <= candles['L'].shift(i))\n",
    "\n",
    "    for j in range(1, right_n + 1):\n",
    "        candles['low_f'] &= (candles['L'] <= candles['L'].shift(-j))\n",
    "\n",
    "    # تبدیل فراکتال‌های بالا و پایین به مقادیر بولی\n",
    "    candles['up_f'] = np.where(candles['up_f'], True, False)\n",
    "    candles['low_f'] = np.where(candles['low_f'], True, False)\n",
    "\n",
    "    return candles\n",
    "\n",
    "\n",
    "# فراخوانی تابع fractals برای شناسایی فراکتال‌ها\n",
    "fractals = fractal(candles, left_n, right_n)\n",
    "\n",
    "\n",
    "# نمایش نتیجه\n",
    "fractals"
   ]
  },
  {
   "cell_type": "code",
   "execution_count": null,
   "id": "8fd49928",
   "metadata": {},
   "outputs": [],
   "source": [
    "# گنترل اینکه فراکتال هست یا نه\n",
    "fractals['fra'] = fractals.apply(\n",
    "    lambda row: 'True' if row['up_f'] or row['low_f'] else 'False', axis=1)\n",
    "\n",
    "fractals[-50:]"
   ]
  },
  {
   "cell_type": "markdown",
   "id": "893cd2e3",
   "metadata": {},
   "source": [
    "حذف فراکتال های پشت سر هم"
   ]
  },
  {
   "cell_type": "code",
   "execution_count": null,
   "id": "039ec141",
   "metadata": {},
   "outputs": [],
   "source": [
    "\n",
    "fractals['frac'] = False  # ستون جدید برای اکستریم‌ها، پیش‌فرض False\n",
    "\n",
    "# لیست نهایی اندیس‌هایی که اکستریم هستند\n",
    "final_rows = []\n",
    "\n",
    "# لیست‌های موقت برای ذخیره اندیس‌های up_f و low_f\n",
    "temp_up_f = []  # اندیس‌های up_f\n",
    "temp_low_f = []  # اندیس‌های low_f\n",
    "\n",
    "# تابع عمومی برای پیدا کردن اکستریم\n",
    "\n",
    "\n",
    "def process_fracs(df, frac_list, column, frac_type):\n",
    "    if len(frac_list) > 0:\n",
    "        frac_index = find_frac(df, frac_list, column, frac_type)\n",
    "        final_rows.append(frac_index)\n",
    "        frac_list.clear()  # خالی کردن لیست موقت\n",
    "\n",
    "# تابع برای پیدا کردن اکستریم\n",
    "\n",
    "\n",
    "def find_frac(df, indexes, column, frac_type='max'):\n",
    "    if frac_type == 'max':\n",
    "        return df.loc[indexes, column].idxmax()\n",
    "    elif frac_type == 'min':\n",
    "        return df.loc[indexes, column].idxmin()\n",
    "\n",
    "\n",
    "# پردازش ردیف‌ها\n",
    "for i, row in fractals.iterrows():\n",
    "    if row['fra']:  # فقط ردیف‌هایی که fra برابر True دارند\n",
    "        if row['up_f']:  # اگر up_f برابر True باشد\n",
    "            temp_up_f.append(i)  # ذخیره اندیس up_f\n",
    "            process_fracs(fractals, temp_low_f, 'L', 'min')\n",
    "        elif row['low_f']:  # اگر low_f برابر True باشد\n",
    "            temp_low_f.append(i)  # ذخیره اندیس low_f\n",
    "            process_fracs(fractals, temp_up_f, 'H', 'max')\n",
    "\n",
    "# اضافه کردن آخرین اکستریم‌ها\n",
    "if len(temp_up_f) > 0:\n",
    "    final_rows.append(find_frac(fractals, temp_up_f, 'H', 'max'))\n",
    "\n",
    "if len(temp_low_f) > 0:\n",
    "    final_rows.append(find_frac(fractals, temp_low_f, 'L', 'min'))\n",
    "\n",
    "# علامت‌گذاری اکستریم‌ها در ستون frac\n",
    "fractals['frac'] = fractals.index.isin(final_rows)\n",
    "\n",
    "\n",
    "# نمایش دیتافریم نهایی\n",
    "fractals[-350:-300]"
   ]
  },
  {
   "cell_type": "markdown",
   "id": "a7255638",
   "metadata": {},
   "source": [
    "جاهایی که یک کندل هم فراکتال سقف هست هم فراکتال کف"
   ]
  },
  {
   "cell_type": "code",
   "execution_count": null,
   "id": "070baeac",
   "metadata": {},
   "outputs": [],
   "source": [
    "# پیمایش دیتافریم و چاپ شماره ردیف‌هایی که هر دو ستون up_f و low_f برابر True هستند\n",
    "for i, row in fractals.iterrows():\n",
    "    if row['up_f'] and row['low_f']:\n",
    "        print(f\"Row {i}: Both up_f and low_f are True\")\n",
    "\n",
    "        # پیدا کردن اولین ردیف به سمت بالا که low_f یا up_f برابر True باشد\n",
    "        upper_index = i - 1\n",
    "        while upper_index >= 0:  # اطمینان از اینکه به ردیف‌های منفی نرسیم\n",
    "            if fractals.iloc[upper_index]['low_f']:\n",
    "                print(f\"First upper Row {upper_index}: low_f is True\")\n",
    "                break\n",
    "            elif fractals.iloc[upper_index]['up_f']:\n",
    "                print(f\"First upper Row {upper_index}: up_f is True\")\n",
    "                break\n",
    "            upper_index -= 1\n",
    "\n",
    "        # پیدا کردن اولین ردیف به سمت پایین که low_f یا up_f برابر True باشد\n",
    "        lower_index = i + 1\n",
    "        # اطمینان از اینکه به ردیف‌های بیش از طول نرسیم\n",
    "        while lower_index < len(fractals):\n",
    "            if fractals.iloc[lower_index]['up_f']:\n",
    "                print(f\"First lower Row {lower_index}: up_f is True\")\n",
    "                break\n",
    "            elif fractals.iloc[lower_index]['low_f']:\n",
    "                print(f\"First lower Row {lower_index}: low_f is True\")\n",
    "                break\n",
    "            lower_index += 1\n",
    "\n",
    "fractals[620:670]"
   ]
  },
  {
   "cell_type": "markdown",
   "id": "027e00a3",
   "metadata": {},
   "source": [
    "حذف یکی از طرفین بالا یا پایین کندل هایی که فراکتال بالا پایین هستند با توجه به فراکتال قبلی"
   ]
  },
  {
   "cell_type": "code",
   "execution_count": null,
   "id": "9689cfdd",
   "metadata": {},
   "outputs": [],
   "source": [
    "# پیمایش دیتافریم و چاپ شماره ردیف‌هایی که هر دو ستون up_f و low_f برابر True هستند\n",
    "for i, row in fractals.iterrows():\n",
    "    if row['up_f'] and row['low_f']:\n",
    "        print(f\"Row {i}: Both up_f and low_f are True\")\n",
    "\n",
    "        # پیدا کردن اولین ردیف به سمت بالا که low_f یا up_f برابر True باشد\n",
    "        upper_index = i - 1\n",
    "        while upper_index >= 0:  # اطمینان از اینکه به ردیف‌های منفی نرسیم\n",
    "            if fractals.iloc[upper_index]['low_f']:\n",
    "                print(f\"First upper Row {upper_index}: low_f is True\")\n",
    "                # اگر فراکتال قبلی low_f باشد، low_f فعلی را False کنیم\n",
    "                fractals.at[i, 'low_f'] = False\n",
    "                # پرینت جایی که low_f به False تنظیم شده است\n",
    "                print(f\"Row {i}: low_f set to False\")\n",
    "                break\n",
    "            elif fractals.iloc[upper_index]['up_f']:\n",
    "                print(f\"First upper Row {upper_index}: up_f is True\")\n",
    "                # اگر فراکتال قبلی up_f باشد، up_f فعلی را False کنیم\n",
    "                fractals.at[i, 'up_f'] = False\n",
    "                # پرینت جایی که up_f به False تنظیم شده است\n",
    "                print(f\"Row {i}: up_f set to False\")\n",
    "                break\n",
    "            upper_index -= 1\n",
    "\n",
    "# نمایش بخشی از دیتافریم برای بررسی تغییرات\n",
    "fractals[476:483]"
   ]
  },
  {
   "cell_type": "markdown",
   "id": "56e3eab2",
   "metadata": {},
   "source": [
    "مشخص کردن مقادیر لگ ها"
   ]
  },
  {
   "cell_type": "code",
   "execution_count": null,
   "id": "b161fd9b",
   "metadata": {},
   "outputs": [],
   "source": [
    "# مشخص کردن مقادیر لگ ها\n",
    "fractals['leg_p'] = None\n",
    "\n",
    "# پیمایش دیتافریم و ثبت مقادیر H و L در ستون‌های جدید\n",
    "for i, row in fractals.iterrows():\n",
    "    if row['frac']:  # اگر frac برابر True باشد\n",
    "        if row['up_f']:  # اگر فقط up_f ترو باشد\n",
    "            fractals.at[i, 'leg_p'] = row['H']  # نوشتن مقدار H\n",
    "        elif row['low_f']:  # اگر فقط low_f ترو باشد\n",
    "            fractals.at[i, 'leg_p'] = row['L']  # نوشتن مقدار L\n",
    "\n",
    "\n",
    "# نمایش دیتا فریم نهای\n",
    "fractals[-50:]"
   ]
  },
  {
   "cell_type": "code",
   "execution_count": null,
   "id": "c0633195",
   "metadata": {},
   "outputs": [],
   "source": [
    "# انتخاب ردیف‌های خاص از دیتافریم\n",
    "subset_fractals = fractals.iloc[-500:]  # انتخاب ردیف‌های 10 تا 20\n",
    "# حذف سطرهایی که مقدار 'fra' آن‌ها False است\n",
    "filtered_fractals = subset_fractals[subset_fractals['frac']]\n",
    "\n",
    "# رسم نمودار\n",
    "plt.figure(figsize=(12, 6))\n",
    "\n",
    "# رسم نقاط up_f به رنگ آبی\n",
    "plt.plot(filtered_fractals['time'][filtered_fractals['up_f']], filtered_fractals['leg_p']\n",
    "         [filtered_fractals['up_f']], 'o', markersize=4, color='blue', label='up_f')\n",
    "\n",
    "# رسم نقاط low_f به رنگ قرمز\n",
    "plt.plot(filtered_fractals['time'][filtered_fractals['low_f']], filtered_fractals['leg_p']\n",
    "         [filtered_fractals['low_f']], 'o', markersize=4, color='red', label='low_f')\n",
    "\n",
    "# رسم نمودار خطی برای leg_p و اتصال نقاط\n",
    "plt.plot(filtered_fractals['time'], filtered_fractals['leg_p'],\n",
    "         '-', color='green', label='leg_p')\n",
    "\n",
    "plt.xlabel('Time')\n",
    "plt.ylabel('leg_p')\n",
    "plt.title('Time Series of leg_p (Filtered Rows)')\n",
    "plt.legend()\n",
    "plt.grid(True)\n",
    "plt.show()"
   ]
  },
  {
   "cell_type": "code",
   "execution_count": null,
   "id": "9271bd48",
   "metadata": {},
   "outputs": [],
   "source": [
    "\n",
    "# پیمایش معکوس ستون leg_p و جایگزینی مقادیر None\n",
    "previous_value = None\n",
    "for i in range(len(fractals)-1, -1, -1):\n",
    "    if fractals.loc[i, 'leg_p'] is not None:\n",
    "        previous_value = fractals.loc[i, 'leg_p']\n",
    "    else:\n",
    "        fractals.loc[i, 'leg_p'] = previous_value\n",
    "\n",
    "fractals[-50:]"
   ]
  },
  {
   "cell_type": "markdown",
   "id": "f74f38a7",
   "metadata": {},
   "source": [
    "شروع فرایند یادگیری ماشین"
   ]
  },
  {
   "cell_type": "code",
   "execution_count": null,
   "id": "48f3c0c0",
   "metadata": {},
   "outputs": [],
   "source": [
    "# به دلیل وجود None و اینکه مقدار صفر مناسب است و باعث ایجاد اشتباه نمیشود با صفر جایگزین شد\n",
    "fractals['leg_p'] = fractals['leg_p'].fillna(0)\n",
    "\n",
    "# تبدیل نوع ستون به نوع مناسب\n",
    "fractals['leg_p'] = fractals['leg_p'].infer_objects(copy=False)\n",
    "\n",
    "fractals"
   ]
  },
  {
   "cell_type": "code",
   "execution_count": null,
   "id": "42a2f54c",
   "metadata": {},
   "outputs": [],
   "source": [
    "fractals_data = fractals\n",
    "fractals_data"
   ]
  },
  {
   "cell_type": "markdown",
   "id": "8ae9d34c",
   "metadata": {},
   "source": [
    "نرمال سازی داده ها"
   ]
  },
  {
   "cell_type": "code",
   "execution_count": null,
   "id": "349a5e81",
   "metadata": {},
   "outputs": [],
   "source": [
    "from sklearn.preprocessing import MinMaxScaler\n",
    "# در صورت تغییر به feature_range مورد نظر\n",
    "scaler = MinMaxScaler(feature_range=(0, 1))\n",
    "\n",
    "# انتخاب ستون‌هایی که می‌خواهیم نرمال کنیم\n",
    "features_to_scale = ['O', 'H', 'L', 'C', 'vol', 'leg_p']\n",
    "\n",
    "# اعمال MinMaxScaler به ستون‌های مورد نظر\n",
    "fractals[features_to_scale] = scaler.fit_transform(fractals[features_to_scale])\n",
    "\n",
    "# نمایش دیتا فریم نرمال شده\n",
    "fractals[-50:]"
   ]
  },
  {
   "cell_type": "markdown",
   "id": "a37d3e08",
   "metadata": {},
   "source": [
    "شروع یاد گیری ماشین"
   ]
  },
  {
   "cell_type": "markdown",
   "id": "2565623c",
   "metadata": {},
   "source": [
    "LSTM"
   ]
  },
  {
   "cell_type": "code",
   "execution_count": null,
   "id": "77f7b22b",
   "metadata": {},
   "outputs": [],
   "source": [
    "from keras.models import Sequential\n",
    "from keras.layers import LSTM, Dense, Dropout\n",
    "from sklearn.preprocessing import MinMaxScaler\n",
    "import numpy as np\n",
    "\n",
    "# استفاده از ستون‌های O، H، L، C، vol به عنوان ورودی و ستون leg_p به عنوان هدف\n",
    "data = fractals[['O', 'H', 'L', 'C', 'vol']].values\n",
    "target = fractals['leg_p'].values\n",
    "\n",
    "# نرمال‌سازی داده‌ها\n",
    "scaler = MinMaxScaler()\n",
    "data_scaled = scaler.fit_transform(data)\n",
    "\n",
    "# ایجاد داده‌های سری زمانی برای مدل LSTM\n",
    "X = []\n",
    "y = []\n",
    "n_steps = 50  # تعداد کندل‌های ورودی برای هر پیش‌بینی\n",
    "\n",
    "for i in range(n_steps, len(data_scaled)):\n",
    "    X.append(data_scaled[i-n_steps:i])\n",
    "    y.append(target[i])\n",
    "\n",
    "X, y = np.array(X), np.array(y)\n",
    "\n",
    "# تقسیم‌بندی داده‌ها به مجموعه‌های آموزشی و تست\n",
    "train_size = int(0.8 * len(X))\n",
    "X_train, X_test = X[:train_size], X[train_size:]\n",
    "y_train, y_test = y[:train_size], y[train_size:]\n",
    "\n",
    "# ساخت مدل LSTM\n",
    "model = Sequential()\n",
    "model.add(LSTM(units=100, return_sequences=True, input_shape=(n_steps, 5)))\n",
    "model.add(Dropout(0.2))\n",
    "model.add(LSTM(units=50))\n",
    "model.add(Dropout(0.2))\n",
    "model.add(Dense(1))\n",
    "\n",
    "# بهینه‌سازی مدل با استفاده از Adam\n",
    "model.compile(optimizer='adam', loss='mean_squared_error')\n",
    "\n",
    "# آموزش مدل\n",
    "model.fit(X_train, y_train, epochs=50, batch_size=32, validation_data=(X_test, y_test))\n",
    "\n",
    "# پیش‌بینی\n",
    "predictions = model.predict(X_test)\n",
    "\n",
    "# تبدیل داده‌ها به مقادیر اصلی\n",
    "predictions = scaler.inverse_transform(predictions)\n",
    "\n",
    "# نمایش نتایج\n",
    "plt.plot(y_test, color='blue', label='Real leg_p')\n",
    "plt.plot(predictions, color='red', label='Predicted leg_p')\n",
    "plt.title('leg_p Prediction using LSTM')\n",
    "plt.legend()\n",
    "plt.show()\n"
   ]
  }
 ],
 "metadata": {
  "colab": {
   "provenance": []
  },
  "kernelspec": {
   "display_name": "Python 3 (ipykernel)",
   "language": "python",
   "name": "python3"
  },
  "language_info": {
   "codemirror_mode": {
    "name": "ipython",
    "version": 3
   },
   "file_extension": ".py",
   "mimetype": "text/x-python",
   "name": "python",
   "nbconvert_exporter": "python",
   "pygments_lexer": "ipython3",
   "version": "3.12.6"
  }
 },
 "nbformat": 4,
 "nbformat_minor": 5
}
